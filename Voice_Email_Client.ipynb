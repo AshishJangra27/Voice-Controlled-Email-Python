{
 "cells": [
  {
   "cell_type": "markdown",
   "metadata": {},
   "source": [
    "# Import dependencies"
   ]
  },
  {
   "cell_type": "markdown",
   "metadata": {},
   "source": [
    "***"
   ]
  },
  {
   "cell_type": "code",
   "execution_count": 3,
   "metadata": {},
   "outputs": [],
   "source": [
    "import speech_recognition as sr               # Speech to text \n",
    "import smtplib                                # Connect to email server\n",
    "import login                                  # For login details\n",
    "import aspy                                   # For custom functions "
   ]
  },
  {
   "cell_type": "markdown",
   "metadata": {},
   "source": [
    "## Writting code for Voice controlled email client"
   ]
  },
  {
   "cell_type": "code",
   "execution_count": null,
   "metadata": {},
   "outputs": [],
   "source": [
    "print('Your voice controlled email client is ready to work.')    # Print Welcome Message\n",
    "try:                                                             # Try Block Starts\n",
    "    while True:                                                  \n",
    "        print('How may i help you today.')\n",
    "        r = sr.Recognizer()\n",
    "        with sr.Microphone() as source:                 # Recognise what we have said\n",
    "            audio = r.listen(source)\n",
    "\n",
    "        text = r.recognize_google(audio)\n",
    "        print ('You said: ',text)                       # Print what you have said\n",
    "        \n",
    "        if text == 'hi' or text == 'hello':\n",
    "            print('Hello')\n",
    "        \n",
    "        elif text == 'compose an email':                # Compose an email\n",
    "\n",
    "            print('What should be the title.')          # Asking for Title\n",
    "            r1 = sr.Recognizer()\n",
    "            with sr.Microphone() as source:       \n",
    "                audio1 = r.listen(source)               # Taking your audio for title\n",
    "            title = r.recognize_google(audio1)          # Speech to text title\n",
    "            print('Title: ',title)                      # Print title\n",
    "\n",
    "\n",
    "            print('What to write in the body')          \n",
    "            r2 = sr.Recognizer()                        \n",
    "            with sr.Microphone() as source:\n",
    "                audio2 = r2.listen(source)              # Taking your audio for body\n",
    "            body = r.recognize_google(audio2)           # Speech to text body\n",
    "            print('Body: ',body)                        # Print title\n",
    "\n",
    "            txt = '\\nTitle: '+title+'\\n\\n'+'Body: '+body        # Print whole message which is going to send\n",
    "            \n",
    "            print('*********************************************************************')\n",
    "            print(txt)\n",
    "            print()\n",
    "            print('*********************************************************************')\n",
    "            \n",
    "            print('To whom you want to send this')     \n",
    "            r3 = sr.Recognizer()\n",
    "            with sr.Microphone() as source:\n",
    "                audio3 = r3.listen(source)             # Taking your audio for username whome you want to send email\n",
    "            desEmail = r3.recognize_google(audio3)     # Speech to text Username\n",
    "            print(desEmail)                            # Print username\n",
    "\n",
    "            fd = open('Users.txt','r')                 # Open Users.txt file where user detail is saved\n",
    "            file = (fd.readlines())                    # Reading each line of file (Users.txt)\n",
    "            l=len(file)                                # Taking number of lines written in the file (Users.txt)\n",
    "            sp_list=[]                                 # Initialise empty list sp_list\n",
    "            for i in range(0,l):\n",
    "                sp_list.append(file[i].split())        # Convert each line into 2d list and append it into sp_list\n",
    "\n",
    "            for i in range(0,l):\n",
    "                if(sp_list[i][0] == desEmail):         # Search for the username in each line of the file(Users.txt).\n",
    "                    print(\"Email-id: \",sp_list[i][1])  # print email id associated to that username\n",
    "                    fd.close()                         # Close the file(Users.txt)\n",
    "                    print('Connecting to email clien server...')\n",
    "                    server = smtplib.SMTP('smtp.gmail.com:587')      # Connecting to email clien server...'\n",
    "                    server.starttls()                                # Start serving\n",
    "                    print(\"Connection established!\")\n",
    "                    print('Sending email...')\n",
    "                    server.login(login.email,login.password)         # Login into server\n",
    "                    server.sendmail(login.email,sp_list[i][1], txt)  # Sending message to the associated email\n",
    "                    server.quit()                                    # Quit the Connection to the Server\n",
    "                    print(\"Email sent Sucessfully!\")\n",
    "                    break\n",
    "\n",
    "                else:\n",
    "                    print('\"\"'+desEmail+'\"'+' is not available in our directiry. You can save it in your directory')\n",
    "                    aspy.new_user()                     # Funtion to save username and email id into (Users.txt)\n",
    "                    print('User saved Sucessfully.')\n",
    "                    print('Thankyou')\n",
    "                    break\n",
    "                    \n",
    "                    \n",
    "        elif text == 'save new user into the directory' or text == 'save new user' or text == 'add new user':\n",
    "            aspy.new_user()                            # Funtion to save username and email id into (Users.txt)\n",
    "            print('User saved Sucessfully.')\n",
    "            print('Thankyou')\n",
    "            break\n",
    "            \n",
    "        elif text == 'bye' or text == 'quit':\n",
    "            print('       Thankyou      ')\n",
    "            print('   Have a nice day   ')\n",
    "            break\n",
    "            \n",
    "        else:\n",
    "            print('*********************************************************************')\n",
    "            print('*                                Welcome to our demo session                            *')\n",
    "            print('*                      This session is to know what our client can do                   *')\n",
    "            print('*                          Say \"Compose an email\" to send an email                      *')\n",
    "            print('* Say \"save new user\" to save new user and email id into our directory for further use  *')\n",
    "            print('*                                        ThankYou                                       *')\n",
    "            print('*********************************************************************')\n",
    "            print('')\n",
    "            \n",
    "                     \n",
    "except:                 # if any exception occures, Our program gets terminate.\n",
    "    print('You have taken a long time to speak.')\n",
    "    print('Program get terminate its excicution.')\n",
    "    print('Thankyou!\\nGoodBye!')"
   ]
  }
 ],
 "metadata": {
  "kernelspec": {
   "display_name": "Python 3",
   "language": "python",
   "name": "python3"
  },
  "language_info": {
   "codemirror_mode": {
    "name": "ipython",
    "version": 3
   },
   "file_extension": ".py",
   "mimetype": "text/x-python",
   "name": "python",
   "nbconvert_exporter": "python",
   "pygments_lexer": "ipython3",
   "version": "3.6.5"
  }
 },
 "nbformat": 4,
 "nbformat_minor": 2
}
